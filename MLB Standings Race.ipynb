{
 "cells": [
  {
   "cell_type": "markdown",
   "metadata": {},
   "source": [
    "# 2020 MLB Standings Race \n",
    "\n",
    "### Most Recently Updated on August 26th, 2020\n",
    "\n",
    "By: Holden Bridge \n",
    "\n",
    "Note: The pullTable function used in this notebook was written by Ben Kite (https://github.com/BenKite/baseball_data). All other code found in this notebook was entirely written by me. \n"
   ]
  },
  {
   "cell_type": "code",
   "execution_count": 1,
   "metadata": {},
   "outputs": [],
   "source": [
    "# Import relevant libraries \n",
    "import pandas \n",
    "import matplotlib.pyplot as plt\n",
    "import matplotlib.ticker as ticker\n",
    "import matplotlib.animation as animation\n",
    "from IPython.display import HTML\n",
    "import requests, bs4\n",
    "import re, os\n",
    "from bs4 import BeautifulSoup\n",
    "from IPython.display import Video"
   ]
  },
  {
   "cell_type": "code",
   "execution_count": 2,
   "metadata": {},
   "outputs": [],
   "source": [
    "# Helpful function found at https://github.com/BenKite/baseball_data\n",
    "def pullTable(url, tableID):\n",
    "    res = requests.get(url)\n",
    "    comm = re.compile(\"<!--|-->\")\n",
    "    soup = bs4.BeautifulSoup(comm.sub(\"\", res.text), 'lxml')\n",
    "    tables = soup.findAll('table', id = tableID)\n",
    "    data_rows = tables[0].findAll('tr')\n",
    "    data_header = tables[0].findAll('thead')\n",
    "    data_header = data_header[0].findAll(\"tr\")\n",
    "    data_header = data_header[0].findAll(\"th\")\n",
    "    game_data = [[td.getText() for td in data_rows[i].findAll(['th','td'])]\n",
    "        for i in range(len(data_rows))\n",
    "        ]\n",
    "    data = pandas.DataFrame(game_data)\n",
    "    header = []\n",
    "    for i in range(len(data.columns)):\n",
    "        header.append(data_header[i].getText())\n",
    "    data.columns = header\n",
    "    data = data.loc[data[header[0]] != header[0]]\n",
    "    data = data.reset_index(drop = True)\n",
    "    return(data)"
   ]
  },
  {
   "cell_type": "code",
   "execution_count": 3,
   "metadata": {},
   "outputs": [],
   "source": [
    "# Colors for each MLB team as well as the dates to be included in the video\n",
    "ALcolors = {'NYY': 'navy', 'TBR' : 'lightskyblue', 'BOS' : 'red', 'TOR' : 'dodgerblue', 'BAL': 'darkorange', 'MIN' : 'cornflowerblue', 'CLE' : 'darkred', 'CHW' : 'grey', 'DET' : 'orange', 'KCR' : 'gold', 'OAK' : 'forestgreen', 'HOU' : 'tab:orange', 'TEX' : 'royalblue', 'LAA': 'tab:red','SEA': 'teal'}\n",
    "NLcolors = {'LAD': 'dodgerblue', 'CHC' : 'royalblue', 'SDP' : 'darkgoldenrod', 'ATL' : 'mediumblue', 'STL': 'tab:red', 'MIA' : 'limegreen', 'COL' : 'blueviolet', 'NYM' : 'tab:orange', 'SFG' : 'orange', 'MIL' : 'navy', 'ARI' : 'goldenrod', 'PHI' : 'red', 'WSN' : 'crimson', 'CIN': 'r','PIT': 'gold'}\n",
    "szn= ['0723', '0724', '0725', '0726', '0727', '0728', '0729', '0730', '0731', '081', '082','083','084','085', '086', '087', '088', '089', '0810','0811','0812','0813','0814','0815','0816','0817','0818','0819','0820','0821','0822','0823','0824', '0825']\n",
    "\n",
    "# Function to create an plot for a given date (American League)\n",
    "def ALplotdate(date):\n",
    "    month  = int(date[0:2])\n",
    "    day = int(date[2:])\n",
    "    tab = pullTable(\"https://www.baseball-reference.com/boxes/?year=2020&month={}&day={}\".format(month,day), \"standings-upto-AL-overall\")\n",
    "    tab['W-L%'] = tab['W-L%'].astype(float)\n",
    "    ig, ax = plt.subplots(figsize=(20, 10))\n",
    "    tab = tab.sort_values('W-L%', ascending = True)\n",
    "    ax.set_facecolor('whitesmoke')\n",
    "    ax.barh(tab['Tm'], tab['W-L%'], color = [ALcolors.get(x) for x in tab['Tm']] )\n",
    "    ax.set_title(\"2020 MLB Playoff Race - American League\", size = 30)\n",
    "    ax.set_xlabel(\"Win-Loss Percentage\", size = 20)\n",
    "    ax.axhline(6.525, linewidth = 2.5, color = 'black', linestyle = '--')\n",
    "    ax.text(1, 0.4, \"Projected Playoff Cutoff\", transform=ax.transAxes, size=15, position = (0.82, 0.49))\n",
    "    ax.set_yticks([])\n",
    "    ax.tick_params(labelsize = 15)\n",
    "    dx = tab['W-L%'].max() / 200\n",
    "    for i, (wl, team) in enumerate(zip(tab['W-L%'], tab['Tm'])):\n",
    "        ax.text(wl-dx, i,     team,           size=16, weight=800, ha='right', va='center', color = 'white')\n",
    "        ax.text(wl+dx, i,     wl ,  size=14, weight = 400, ha='left',  va='center')\n",
    "    \n",
    "    if(month == 7):\n",
    "        ax.text(1, 0.4, \"July \" + str(day), transform=ax.transAxes, size=35, position = (0.7, 0.1))\n",
    "    elif(month == 8):\n",
    "        ax.text(1, 0.4, \"August \" + str(day), transform=ax.transAxes, size=35, position = (0.7, 0.1))\n",
    "        \n",
    "    ig.savefig('AL'+ date  + '.png', facecolor = 'white')\n",
    "\n",
    "# Function to create an plot for a given date (National League)\n",
    "def NLplotdate(date):\n",
    "    month  = int(date[0:2])\n",
    "    day = int(date[2:])\n",
    "    tab = pullTable(\"https://www.baseball-reference.com/boxes/?year=2020&month={}&day={}\".format(month,day), \"standings-upto-NL-overall\")\n",
    "    tab['W-L%'] = tab['W-L%'].astype(float)\n",
    "    ig, ax = plt.subplots(figsize=(20, 10))\n",
    "    tab = tab.sort_values('W-L%', ascending = True)\n",
    "    ax.set_facecolor('whitesmoke')\n",
    "    ax.barh(tab['Tm'], tab['W-L%'], color = [NLcolors.get(x) for x in tab['Tm']] )\n",
    "    ax.set_title(\"2020 MLB Playoff Race - National League\", size = 30)\n",
    "    ax.set_xlabel(\"Win-Loss Percentage\", size = 20)\n",
    "    ax.axhline(6.525, linewidth = 2.5, color = 'black', linestyle = '--')\n",
    "    ax.text(1, 0.4, \"Projected Playoff Cutoff\", transform=ax.transAxes, size=15, position = (0.82, 0.49))\n",
    "    ax.set_yticks([])\n",
    "    ax.tick_params(labelsize = 15)\n",
    "    dx = tab['W-L%'].max() / 200\n",
    "    for i, (wl, team) in enumerate(zip(tab['W-L%'], tab['Tm'])):\n",
    "        ax.text(wl-dx, i,     team,           size=16, weight=800, ha='right', va='center', color = 'white')\n",
    "        ax.text(wl+dx, i,     wl ,  size=14, weight = 400, ha='left',  va='center')\n",
    "    \n",
    "    if(month == 7):\n",
    "        ax.text(1, 0.4, \"July \" + str(day), transform=ax.transAxes, size=35, position = (0.7, 0.1))\n",
    "    elif(month == 8):\n",
    "        ax.text(1, 0.4, \"August \" + str(day), transform=ax.transAxes, size=35, position = (0.7, 0.1))\n",
    "        \n",
    "    ig.savefig('NL'+ date  + '.png', facecolor = 'white')"
   ]
  },
  {
   "cell_type": "markdown",
   "metadata": {},
   "source": [
    "Uncomment the following 3 lines to produce the individual plots for each date for both the American and National League. These images were used to make the videos seen below. "
   ]
  },
  {
   "cell_type": "code",
   "execution_count": 4,
   "metadata": {},
   "outputs": [],
   "source": [
    "# for i in szn:\n",
    "#     ALplotdate(i)\n",
    "#     NLplotdate(i)"
   ]
  },
  {
   "cell_type": "markdown",
   "metadata": {},
   "source": [
    "For the shortened 2020 season the MLB expanded their playoff format to include the top 2 teams from each division and 2 wild card teams with the highest win percentage from the remaining pool of teams. The \"Projected Playoff Cutoff\" you see below marks the top 8 teams in terms of win percentage. There is a small chance that a team outside of the top 8 could be in the playoffs depending their division. However, for simplicity sake I used the top 8 teams in terms of win percentage to predict who will reach the playoffs. \n",
    "\n",
    "The following videos show the playoff race for the American and National League respectively. "
   ]
  },
  {
   "cell_type": "code",
   "execution_count": 5,
   "metadata": {},
   "outputs": [
    {
     "data": {
      "text/html": [
       "<video src=\"AL825.mp4\" controls  width=\"900\"  height=\"500\">\n",
       "      Your browser does not support the <code>video</code> element.\n",
       "    </video>"
      ],
      "text/plain": [
       "<IPython.core.display.Video object>"
      ]
     },
     "execution_count": 5,
     "metadata": {},
     "output_type": "execute_result"
    }
   ],
   "source": [
    "Video(\"AL825.mp4\", width = 900, height = 500)"
   ]
  },
  {
   "cell_type": "code",
   "execution_count": 6,
   "metadata": {},
   "outputs": [
    {
     "data": {
      "text/html": [
       "<video src=\"NL825.mp4\" controls  width=\"900\"  height=\"500\">\n",
       "      Your browser does not support the <code>video</code> element.\n",
       "    </video>"
      ],
      "text/plain": [
       "<IPython.core.display.Video object>"
      ]
     },
     "execution_count": 6,
     "metadata": {},
     "output_type": "execute_result"
    }
   ],
   "source": [
    "Video(\"NL825.mp4\", width = 900, height = 500)"
   ]
  },
  {
   "cell_type": "code",
   "execution_count": null,
   "metadata": {},
   "outputs": [],
   "source": []
  }
 ],
 "metadata": {
  "kernelspec": {
   "display_name": "Python 3",
   "language": "python",
   "name": "python3"
  },
  "language_info": {
   "codemirror_mode": {
    "name": "ipython",
    "version": 3
   },
   "file_extension": ".py",
   "mimetype": "text/x-python",
   "name": "python",
   "nbconvert_exporter": "python",
   "pygments_lexer": "ipython3",
   "version": "3.7.6"
  }
 },
 "nbformat": 4,
 "nbformat_minor": 4
}
